{
 "cells": [
  {
   "cell_type": "markdown",
   "metadata": {},
   "source": [
    "**IS362 Week 7 Assignment**\n",
    "By Jake Kwok\n",
    "\n",
    "Choose six recent popular movies. Ask at least five people that you know (friends, family, classmates, imaginary friends) to rate each of these movies that they have seen on a scale of 1 to 5. There should be at least one movie that not everyone has seen!\n",
    "\n",
    "Note: Professor had issue with NaN values was not getting ints."
   ]
  },
  {
   "cell_type": "code",
   "execution_count": 25,
   "metadata": {
    "collapsed": true
   },
   "outputs": [],
   "source": [
    "#loading libraries\n",
    "import pandas as pd\n",
    "import numpy as np\n",
    "import sys\n",
    "from pandas import DataFrame, read_csv"
   ]
  },
  {
   "cell_type": "markdown",
   "metadata": {},
   "source": [
    "**1. Loaded the ratings by user information using a bunch of lists**\n",
    "\n",
    "From creating the list i managed zipping the data in steps of creating a dataframe."
   ]
  },
  {
   "cell_type": "code",
   "execution_count": 26,
   "metadata": {
    "collapsed": true
   },
   "outputs": [],
   "source": [
    "Reviewers = ['John', 'Max', 'Alex', 'Jesse', 'Mathew']\n",
    "American_Sniper = [5, 4, 0, 0, 5]\n",
    "Edge_of_tomorow = [4, 0, 0, 0, 4]\n",
    "John_Wick = [3, 3, 4, 2, 4]\n",
    "Jurssic_world = [0, 3, 0, 0, 2]\n",
    "Point_Break = [0, 0, 4, 4, 3]\n",
    "Lucy = [4, 0, 4, 0, 3]"
   ]
  },
  {
   "cell_type": "code",
   "execution_count": 27,
   "metadata": {
    "collapsed": false
   },
   "outputs": [
    {
     "data": {
      "text/plain": [
       "[(5, 4, 3, 0, 0, 4),\n",
       " (4, 0, 3, 3, 0, 0),\n",
       " (0, 0, 4, 0, 4, 4),\n",
       " (0, 0, 2, 0, 4, 0),\n",
       " (5, 4, 4, 2, 3, 3)]"
      ]
     },
     "execution_count": 27,
     "metadata": {},
     "output_type": "execute_result"
    }
   ],
   "source": [
    "Moviereviews = list(zip(American_Sniper, Edge_of_tomorow, John_Wick, Jurssic_world, Point_Break, Lucy))\n",
    "Moviereviews"
   ]
  },
  {
   "cell_type": "code",
   "execution_count": 28,
   "metadata": {
    "collapsed": false
   },
   "outputs": [
    {
     "data": {
      "text/html": [
       "<div>\n",
       "<table border=\"1\" class=\"dataframe\">\n",
       "  <thead>\n",
       "    <tr style=\"text-align: right;\">\n",
       "      <th></th>\n",
       "      <th>American_Sniper</th>\n",
       "      <th>Edge_of_tomorow</th>\n",
       "      <th>John_Wick</th>\n",
       "      <th>Jurssic_world</th>\n",
       "      <th>Point_Break</th>\n",
       "      <th>Lucy</th>\n",
       "    </tr>\n",
       "  </thead>\n",
       "  <tbody>\n",
       "    <tr>\n",
       "      <th>John</th>\n",
       "      <td>5</td>\n",
       "      <td>4</td>\n",
       "      <td>3</td>\n",
       "      <td>0</td>\n",
       "      <td>0</td>\n",
       "      <td>4</td>\n",
       "    </tr>\n",
       "    <tr>\n",
       "      <th>Max</th>\n",
       "      <td>4</td>\n",
       "      <td>0</td>\n",
       "      <td>3</td>\n",
       "      <td>3</td>\n",
       "      <td>0</td>\n",
       "      <td>0</td>\n",
       "    </tr>\n",
       "    <tr>\n",
       "      <th>Alex</th>\n",
       "      <td>0</td>\n",
       "      <td>0</td>\n",
       "      <td>4</td>\n",
       "      <td>0</td>\n",
       "      <td>4</td>\n",
       "      <td>4</td>\n",
       "    </tr>\n",
       "    <tr>\n",
       "      <th>Jesse</th>\n",
       "      <td>0</td>\n",
       "      <td>0</td>\n",
       "      <td>2</td>\n",
       "      <td>0</td>\n",
       "      <td>4</td>\n",
       "      <td>0</td>\n",
       "    </tr>\n",
       "    <tr>\n",
       "      <th>Mathew</th>\n",
       "      <td>5</td>\n",
       "      <td>4</td>\n",
       "      <td>4</td>\n",
       "      <td>2</td>\n",
       "      <td>3</td>\n",
       "      <td>3</td>\n",
       "    </tr>\n",
       "  </tbody>\n",
       "</table>\n",
       "</div>"
      ],
      "text/plain": [
       "        American_Sniper  Edge_of_tomorow  John_Wick  Jurssic_world  \\\n",
       "John                  5                4          3              0   \n",
       "Max                   4                0          3              3   \n",
       "Alex                  0                0          4              0   \n",
       "Jesse                 0                0          2              0   \n",
       "Mathew                5                4          4              2   \n",
       "\n",
       "        Point_Break  Lucy  \n",
       "John              0     4  \n",
       "Max               0     0  \n",
       "Alex              4     4  \n",
       "Jesse             4     0  \n",
       "Mathew            3     3  "
      ]
     },
     "execution_count": 28,
     "metadata": {},
     "output_type": "execute_result"
    }
   ],
   "source": [
    "df = DataFrame(data = Moviereviews, columns=['American_Sniper', 'Edge_of_tomorow', 'John_Wick', 'Jurssic_world', 'Point_Break', 'Lucy'],\n",
    "              index=['John', 'Max', 'Alex', 'Jesse', 'Mathew'])\n",
    "df"
   ]
  },
  {
   "cell_type": "code",
   "execution_count": 29,
   "metadata": {
    "collapsed": true
   },
   "outputs": [],
   "source": [
    "#added these lines of code to produce the data on a csv file, but thought it was not necessary.\n",
    "#df.to_csv('moviereviews.csv', index=True, header=True)"
   ]
  },
  {
   "cell_type": "code",
   "execution_count": 30,
   "metadata": {
    "collapsed": true
   },
   "outputs": [],
   "source": [
    "#csvfile = r'/Users/Shared/movieereviews.csv'\n",
    "#df = pd.read_csv(csvfile)"
   ]
  },
  {
   "cell_type": "markdown",
   "metadata": {},
   "source": [
    "**2. Show the average ratings for each user and each movie.**\n",
    "\n",
    "Managed to get the average of every movie from ratings."
   ]
  },
  {
   "cell_type": "code",
   "execution_count": 31,
   "metadata": {
    "collapsed": false
   },
   "outputs": [
    {
     "data": {
      "text/plain": [
       "2.2"
      ]
     },
     "execution_count": 31,
     "metadata": {},
     "output_type": "execute_result"
    }
   ],
   "source": [
    "df[\"American_Sniper\"].mean()\n",
    "df[\"Edge_of_tomorow\"].mean()\n",
    "df[\"John_Wick\"].mean()\n",
    "df[\"Jurssic_world\"].mean()\n",
    "df[\"Point_Break\"].mean()\n",
    "df[\"Lucy\"].mean()"
   ]
  },
  {
   "cell_type": "markdown",
   "metadata": {},
   "source": [
    "Overall stats of the reviewers and movie ratings"
   ]
  },
  {
   "cell_type": "code",
   "execution_count": 32,
   "metadata": {
    "collapsed": false
   },
   "outputs": [
    {
     "data": {
      "text/html": [
       "<div>\n",
       "<table border=\"1\" class=\"dataframe\">\n",
       "  <thead>\n",
       "    <tr style=\"text-align: right;\">\n",
       "      <th></th>\n",
       "      <th>American_Sniper</th>\n",
       "      <th>Edge_of_tomorow</th>\n",
       "      <th>John_Wick</th>\n",
       "      <th>Jurssic_world</th>\n",
       "      <th>Point_Break</th>\n",
       "      <th>Lucy</th>\n",
       "    </tr>\n",
       "  </thead>\n",
       "  <tbody>\n",
       "    <tr>\n",
       "      <th>count</th>\n",
       "      <td>5.000000</td>\n",
       "      <td>5.00000</td>\n",
       "      <td>5.00000</td>\n",
       "      <td>5.000000</td>\n",
       "      <td>5.00000</td>\n",
       "      <td>5.00000</td>\n",
       "    </tr>\n",
       "    <tr>\n",
       "      <th>mean</th>\n",
       "      <td>2.800000</td>\n",
       "      <td>1.60000</td>\n",
       "      <td>3.20000</td>\n",
       "      <td>1.000000</td>\n",
       "      <td>2.20000</td>\n",
       "      <td>2.20000</td>\n",
       "    </tr>\n",
       "    <tr>\n",
       "      <th>std</th>\n",
       "      <td>2.588436</td>\n",
       "      <td>2.19089</td>\n",
       "      <td>0.83666</td>\n",
       "      <td>1.414214</td>\n",
       "      <td>2.04939</td>\n",
       "      <td>2.04939</td>\n",
       "    </tr>\n",
       "    <tr>\n",
       "      <th>min</th>\n",
       "      <td>0.000000</td>\n",
       "      <td>0.00000</td>\n",
       "      <td>2.00000</td>\n",
       "      <td>0.000000</td>\n",
       "      <td>0.00000</td>\n",
       "      <td>0.00000</td>\n",
       "    </tr>\n",
       "    <tr>\n",
       "      <th>25%</th>\n",
       "      <td>0.000000</td>\n",
       "      <td>0.00000</td>\n",
       "      <td>3.00000</td>\n",
       "      <td>0.000000</td>\n",
       "      <td>0.00000</td>\n",
       "      <td>0.00000</td>\n",
       "    </tr>\n",
       "    <tr>\n",
       "      <th>50%</th>\n",
       "      <td>4.000000</td>\n",
       "      <td>0.00000</td>\n",
       "      <td>3.00000</td>\n",
       "      <td>0.000000</td>\n",
       "      <td>3.00000</td>\n",
       "      <td>3.00000</td>\n",
       "    </tr>\n",
       "    <tr>\n",
       "      <th>75%</th>\n",
       "      <td>5.000000</td>\n",
       "      <td>4.00000</td>\n",
       "      <td>4.00000</td>\n",
       "      <td>2.000000</td>\n",
       "      <td>4.00000</td>\n",
       "      <td>4.00000</td>\n",
       "    </tr>\n",
       "    <tr>\n",
       "      <th>max</th>\n",
       "      <td>5.000000</td>\n",
       "      <td>4.00000</td>\n",
       "      <td>4.00000</td>\n",
       "      <td>3.000000</td>\n",
       "      <td>4.00000</td>\n",
       "      <td>4.00000</td>\n",
       "    </tr>\n",
       "  </tbody>\n",
       "</table>\n",
       "</div>"
      ],
      "text/plain": [
       "       American_Sniper  Edge_of_tomorow  John_Wick  Jurssic_world  \\\n",
       "count         5.000000          5.00000    5.00000       5.000000   \n",
       "mean          2.800000          1.60000    3.20000       1.000000   \n",
       "std           2.588436          2.19089    0.83666       1.414214   \n",
       "min           0.000000          0.00000    2.00000       0.000000   \n",
       "25%           0.000000          0.00000    3.00000       0.000000   \n",
       "50%           4.000000          0.00000    3.00000       0.000000   \n",
       "75%           5.000000          4.00000    4.00000       2.000000   \n",
       "max           5.000000          4.00000    4.00000       3.000000   \n",
       "\n",
       "       Point_Break     Lucy  \n",
       "count      5.00000  5.00000  \n",
       "mean       2.20000  2.20000  \n",
       "std        2.04939  2.04939  \n",
       "min        0.00000  0.00000  \n",
       "25%        0.00000  0.00000  \n",
       "50%        3.00000  3.00000  \n",
       "75%        4.00000  4.00000  \n",
       "max        4.00000  4.00000  "
      ]
     },
     "execution_count": 32,
     "metadata": {},
     "output_type": "execute_result"
    }
   ],
   "source": [
    "df.describe()"
   ]
  },
  {
   "cell_type": "markdown",
   "metadata": {},
   "source": [
    "**3. Normalized Ratings**\n",
    "\n",
    "Create a new pandas dataframe, with normalized ratings for each user. Again, show the average\n",
    "ratings for each user and each movie"
   ]
  },
  {
   "cell_type": "code",
   "execution_count": 33,
   "metadata": {
    "collapsed": false
   },
   "outputs": [
    {
     "data": {
      "text/html": [
       "<div>\n",
       "<table border=\"1\" class=\"dataframe\">\n",
       "  <thead>\n",
       "    <tr style=\"text-align: right;\">\n",
       "      <th></th>\n",
       "      <th>American_Sniper</th>\n",
       "      <th>Edge_of_tomorow</th>\n",
       "      <th>John_Wick</th>\n",
       "      <th>Jurssic_world</th>\n",
       "      <th>Point_Break</th>\n",
       "      <th>Lucy</th>\n",
       "    </tr>\n",
       "  </thead>\n",
       "  <tbody>\n",
       "    <tr>\n",
       "      <th>John</th>\n",
       "      <td>0.44</td>\n",
       "      <td>0.6</td>\n",
       "      <td>-0.1</td>\n",
       "      <td>-0.333333</td>\n",
       "      <td>-0.55</td>\n",
       "      <td>0.45</td>\n",
       "    </tr>\n",
       "    <tr>\n",
       "      <th>Max</th>\n",
       "      <td>0.24</td>\n",
       "      <td>-0.4</td>\n",
       "      <td>-0.1</td>\n",
       "      <td>0.666667</td>\n",
       "      <td>-0.55</td>\n",
       "      <td>-0.55</td>\n",
       "    </tr>\n",
       "    <tr>\n",
       "      <th>Alex</th>\n",
       "      <td>-0.56</td>\n",
       "      <td>-0.4</td>\n",
       "      <td>0.4</td>\n",
       "      <td>-0.333333</td>\n",
       "      <td>0.45</td>\n",
       "      <td>0.45</td>\n",
       "    </tr>\n",
       "    <tr>\n",
       "      <th>Jesse</th>\n",
       "      <td>-0.56</td>\n",
       "      <td>-0.4</td>\n",
       "      <td>-0.6</td>\n",
       "      <td>-0.333333</td>\n",
       "      <td>0.45</td>\n",
       "      <td>-0.55</td>\n",
       "    </tr>\n",
       "    <tr>\n",
       "      <th>Mathew</th>\n",
       "      <td>0.44</td>\n",
       "      <td>0.6</td>\n",
       "      <td>0.4</td>\n",
       "      <td>0.333333</td>\n",
       "      <td>0.20</td>\n",
       "      <td>0.20</td>\n",
       "    </tr>\n",
       "  </tbody>\n",
       "</table>\n",
       "</div>"
      ],
      "text/plain": [
       "        American_Sniper  Edge_of_tomorow  John_Wick  Jurssic_world  \\\n",
       "John               0.44              0.6       -0.1      -0.333333   \n",
       "Max                0.24             -0.4       -0.1       0.666667   \n",
       "Alex              -0.56             -0.4        0.4      -0.333333   \n",
       "Jesse             -0.56             -0.4       -0.6      -0.333333   \n",
       "Mathew             0.44              0.6        0.4       0.333333   \n",
       "\n",
       "        Point_Break  Lucy  \n",
       "John          -0.55  0.45  \n",
       "Max           -0.55 -0.55  \n",
       "Alex           0.45  0.45  \n",
       "Jesse          0.45 -0.55  \n",
       "Mathew         0.20  0.20  "
      ]
     },
     "execution_count": 33,
     "metadata": {},
     "output_type": "execute_result"
    }
   ],
   "source": [
    "df_norm = (df - df.mean()) / (df.max() - df.min())\n",
    "df_norm\n"
   ]
  },
  {
   "cell_type": "code",
   "execution_count": 34,
   "metadata": {
    "collapsed": false
   },
   "outputs": [
    {
     "data": {
      "text/plain": [
       "American_Sniper    6.661338e-17\n",
       "Edge_of_tomorow   -2.220446e-17\n",
       "John_Wick         -8.881784e-17\n",
       "Jurssic_world      0.000000e+00\n",
       "Point_Break       -4.440892e-17\n",
       "Lucy              -4.440892e-17\n",
       "dtype: float64"
      ]
     },
     "execution_count": 34,
     "metadata": {},
     "output_type": "execute_result"
    }
   ],
   "source": [
    "df_norm.mean()"
   ]
  },
  {
   "cell_type": "code",
   "execution_count": 35,
   "metadata": {
    "collapsed": false
   },
   "outputs": [
    {
     "data": {
      "text/plain": [
       "American_Sniper    1.0\n",
       "Edge_of_tomorow    1.0\n",
       "John_Wick          1.0\n",
       "Jurssic_world      1.0\n",
       "Point_Break        1.0\n",
       "Lucy               1.0\n",
       "dtype: float64"
      ]
     },
     "execution_count": 35,
     "metadata": {},
     "output_type": "execute_result"
    }
   ],
   "source": [
    "df_norm.max() - df_norm.min()"
   ]
  },
  {
   "cell_type": "markdown",
   "metadata": {},
   "source": [
    "**Extra Credit**\n",
    "\n",
    "Standarization form of movie ratings"
   ]
  },
  {
   "cell_type": "code",
   "execution_count": 36,
   "metadata": {
    "collapsed": false
   },
   "outputs": [
    {
     "data": {
      "text/plain": [
       "American_Sniper    1.0\n",
       "Edge_of_tomorow    1.0\n",
       "John_Wick          1.0\n",
       "Jurssic_world      1.0\n",
       "Point_Break        1.0\n",
       "Lucy               1.0\n",
       "dtype: float64"
      ]
     },
     "execution_count": 36,
     "metadata": {},
     "output_type": "execute_result"
    }
   ],
   "source": [
    "ratings_stand = (df-df.mean()) / df.std()\n",
    "ratings_stand.std()"
   ]
  },
  {
   "cell_type": "markdown",
   "metadata": {},
   "source": [
    "**Conclusion**"
   ]
  },
  {
   "cell_type": "markdown",
   "metadata": {
    "collapsed": false
   },
   "source": [
    "With this assignment we can do the normalization to reach a linear, more robust relationship between movie ratings. Additionally, we use normalization to find a linear to find Patterns.  However, it does come to a distadvantage that the outliers will cause the rest of the data to scale with low values, Not showing trends or relationships."
   ]
  },
  {
   "cell_type": "code",
   "execution_count": null,
   "metadata": {
    "collapsed": true
   },
   "outputs": [],
   "source": []
  },
  {
   "cell_type": "code",
   "execution_count": null,
   "metadata": {
    "collapsed": true
   },
   "outputs": [],
   "source": []
  }
 ],
 "metadata": {
  "kernelspec": {
   "display_name": "Python 3",
   "language": "python",
   "name": "python3"
  },
  "language_info": {
   "codemirror_mode": {
    "name": "ipython",
    "version": 3
   },
   "file_extension": ".py",
   "mimetype": "text/x-python",
   "name": "python",
   "nbconvert_exporter": "python",
   "pygments_lexer": "ipython3",
   "version": "3.6.0"
  }
 },
 "nbformat": 4,
 "nbformat_minor": 2
}
